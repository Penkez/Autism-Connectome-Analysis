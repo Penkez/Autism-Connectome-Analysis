{
 "cells": [
  {
   "cell_type": "markdown",
   "metadata": {},
   "source": [
    "## Read NYU's Data from ABIDE-BIDS and Preprocess\n",
    "This notebook contains the workflow of reading and processing the raw fMRI data of NYU's site in ABIDE \n",
    "\n",
    "1. Read NYU's BIDS format data\n"
   ]
  },
  {
   "cell_type": "markdown",
   "metadata": {
    "collapsed": true
   },
   "source": [
    "Layout object that will help me query the data in BIDS format"
   ]
  },
  {
   "cell_type": "code",
   "execution_count": 228,
   "metadata": {
    "collapsed": true
   },
   "outputs": [],
   "source": [
    "from bids.grabbids import BIDSLayout\n"
   ]
  },
  {
   "cell_type": "markdown",
   "metadata": {},
   "source": [
    "Layout object takes as parameter the directory that contains the subjects"
   ]
  },
  {
   "cell_type": "code",
   "execution_count": 229,
   "metadata": {
    "collapsed": true
   },
   "outputs": [],
   "source": [
    "layout = BIDSLayout(\"/home/jovyan/work/preprocess/data/ABIDE-BIDS/NYU/\")"
   ]
  },
  {
   "cell_type": "code",
   "execution_count": 230,
   "metadata": {},
   "outputs": [
    {
     "name": "stdout",
     "output_type": "stream",
     "text": [
      "/home/jovyan/work/preprocess/data/ABIDE-BIDS/NYU/\r\n",
      "├── participants.tsv\r\n",
      "├── sub-0050952\r\n",
      "│   ├── anat\r\n",
      "│   │   └── sub-0050952_T1w.nii.gz\r\n",
      "│   └── func\r\n",
      "│       └── sub-0050952_task-rest_run-1_bold.nii.gz\r\n",
      "├── sub-0050953\r\n",
      "│   ├── anat\r\n",
      "│   │   └── sub-0050953_T1w.nii.gz\r\n",
      "│   └── func\r\n",
      "│       └── sub-0050953_task-rest_run-1_bold.nii.gz\r\n",
      "├── sub-0050954\r\n",
      "│   ├── anat\r\n",
      "│   │   └── sub-0050954_T1w.nii.gz\r\n",
      "│   └── func\r\n",
      "│       └── sub-0050954_task-rest_run-1_bold.nii.gz\r\n",
      "├── sub-0050955\r\n",
      "│   ├── anat\r\n",
      "│   │   └── sub-0050955_T1w.nii.gz\r\n",
      "│   └── func\r\n",
      "│       └── sub-0050955_task-rest_run-1_bold.nii.gz\r\n",
      "├── sub-0050956\r\n",
      "│   ├── anat\r\n",
      "│   │   └── sub-0050956_T1w.nii.gz\r\n",
      "│   └── func\r\n",
      "│       └── sub-0050956_task-rest_run-1_bold.nii.gz\r\n",
      "├── sub-0050957\r\n",
      "│   ├── anat\r\n",
      "│   │   └── sub-0050957_T1w.nii.gz\r\n",
      "│   └── func\r\n",
      "│       └── sub-0050957_task-rest_run-1_bold.nii.gz\r\n",
      "├── sub-0050958\r\n",
      "│   ├── anat\r\n",
      "│   │   └── sub-0050958_T1w.nii.gz\r\n",
      "│   └── func\r\n",
      "│       └── sub-0050958_task-rest_run-1_bold.nii.gz\r\n",
      "├── sub-0050959\r\n",
      "│   ├── anat\r\n",
      "│   │   └── sub-0050959_T1w.nii.gz\r\n",
      "│   └── func\r\n",
      "│       └── sub-0050959_task-rest_run-1_bold.nii.gz\r\n",
      "├── sub-0050960\r\n",
      "│   ├── anat\r\n",
      "│   │   └── sub-0050960_T1w.nii.gz\r\n",
      "│   └── func\r\n",
      "│       └── sub-0050960_task-rest_run-1_bold.nii.gz\r\n",
      "├── sub-0050961\r\n",
      "│   ├── anat\r\n",
      "│   │   └── sub-0050961_T1w.nii.gz\r\n",
      "│   └── func\r\n",
      "│       └── sub-0050961_task-rest_run-1_bold.nii.gz\r\n",
      "├── sub-0050962\r\n",
      "│   ├── anat\r\n",
      "│   │   └── sub-0050962_T1w.nii.gz\r\n",
      "│   └── func\r\n",
      "│       └── sub-0050962_task-rest_run-1_bold.nii.gz\r\n",
      "├── sub-0050964\r\n",
      "│   ├── anat\r\n",
      "│   │   └── sub-0050964_T1w.nii.gz\r\n",
      "│   └── func\r\n",
      "│       └── sub-0050964_task-rest_run-1_bold.nii.gz\r\n",
      "├── sub-0050965\r\n",
      "│   ├── anat\r\n",
      "│   │   └── sub-0050965_T1w.nii.gz\r\n",
      "│   └── func\r\n",
      "│       └── sub-0050965_task-rest_run-1_bold.nii.gz\r\n",
      "├── sub-0050966\r\n",
      "│   ├── anat\r\n",
      "│   │   └── sub-0050966_T1w.nii.gz\r\n",
      "│   └── func\r\n",
      "│       └── sub-0050966_task-rest_run-1_bold.nii.gz\r\n",
      "├── sub-0050967\r\n",
      "│   ├── anat\r\n",
      "│   │   └── sub-0050967_T1w.nii.gz\r\n",
      "│   └── func\r\n",
      "│       └── sub-0050967_task-rest_run-1_bold.nii.gz\r\n",
      "├── sub-0050968\r\n",
      "│   ├── anat\r\n",
      "│   │   └── sub-0050968_T1w.nii.gz\r\n",
      "│   └── func\r\n",
      "│       └── sub-0050968_task-rest_run-1_bold.nii.gz\r\n",
      "├── sub-0050969\r\n",
      "│   ├── anat\r\n",
      "│   │   └── sub-0050969_T1w.nii.gz\r\n",
      "│   └── func\r\n",
      "│       └── sub-0050969_task-rest_run-1_bold.nii.gz\r\n",
      "├── sub-0050970\r\n",
      "│   ├── anat\r\n",
      "│   │   └── sub-0050970_T1w.nii.gz\r\n",
      "│   └── func\r\n",
      "│       └── sub-0050970_task-rest_run-1_bold.nii.gz\r\n",
      "├── sub-0050971\r\n",
      "│   ├── anat\r\n",
      "│   │   └── sub-0050971_T1w.nii.gz\r\n",
      "│   └── func\r\n",
      "│       └── sub-0050971_task-rest_run-1_bold.nii.gz\r\n",
      "├── sub-0050972\r\n",
      "│   ├── anat\r\n",
      "│   │   └── sub-0050972_T1w.nii.gz\r\n",
      "│   └── func\r\n",
      "│       └── sub-0050972_task-rest_run-1_bold.nii.gz\r\n",
      "├── sub-0050973\r\n",
      "│   ├── anat\r\n",
      "│   │   └── sub-0050973_T1w.nii.gz\r\n",
      "│   └── func\r\n",
      "│       └── sub-0050973_task-rest_run-1_bold.nii.gz\r\n",
      "├── sub-0050974\r\n",
      "│   ├── anat\r\n",
      "│   │   └── sub-0050974_T1w.nii.gz\r\n",
      "│   └── func\r\n",
      "│       └── sub-0050974_task-rest_run-1_bold.nii.gz\r\n",
      "├── sub-0050975\r\n",
      "│   ├── anat\r\n",
      "│   │   └── sub-0050975_T1w.nii.gz\r\n",
      "│   └── func\r\n",
      "│       └── sub-0050975_task-rest_run-1_bold.nii.gz\r\n",
      "├── sub-0050976\r\n",
      "│   ├── anat\r\n",
      "│   │   └── sub-0050976_T1w.nii.gz\r\n",
      "│   └── func\r\n",
      "│       └── sub-0050976_task-rest_run-1_bold.nii.gz\r\n",
      "├── sub-0050977\r\n",
      "│   ├── anat\r\n",
      "│   │   └── sub-0050977_T1w.nii.gz\r\n",
      "│   └── func\r\n",
      "│       └── sub-0050977_task-rest_run-1_bold.nii.gz\r\n",
      "├── sub-0050978\r\n",
      "│   ├── anat\r\n",
      "│   │   └── sub-0050978_T1w.nii.gz\r\n",
      "│   └── func\r\n",
      "│       └── sub-0050978_task-rest_run-1_bold.nii.gz\r\n",
      "├── sub-0050979\r\n",
      "│   ├── anat\r\n",
      "│   │   └── sub-0050979_T1w.nii.gz\r\n",
      "│   └── func\r\n",
      "│       └── sub-0050979_task-rest_run-1_bold.nii.gz\r\n",
      "├── sub-0050980\r\n",
      "│   ├── anat\r\n",
      "│   │   └── sub-0050980_T1w.nii.gz\r\n",
      "│   └── func\r\n",
      "│       └── sub-0050980_task-rest_run-1_bold.nii.gz\r\n",
      "├── sub-0050981\r\n",
      "│   ├── anat\r\n",
      "│   │   └── sub-0050981_T1w.nii.gz\r\n",
      "│   └── func\r\n",
      "│       └── sub-0050981_task-rest_run-1_bold.nii.gz\r\n",
      "├── sub-0050982\r\n",
      "│   ├── anat\r\n",
      "│   │   └── sub-0050982_T1w.nii.gz\r\n",
      "│   └── func\r\n",
      "│       └── sub-0050982_task-rest_run-1_bold.nii.gz\r\n",
      "├── sub-0050983\r\n",
      "│   ├── anat\r\n",
      "│   │   └── sub-0050983_T1w.nii.gz\r\n",
      "│   └── func\r\n",
      "│       └── sub-0050983_task-rest_run-1_bold.nii.gz\r\n",
      "├── sub-0050984\r\n",
      "│   ├── anat\r\n",
      "│   │   └── sub-0050984_T1w.nii.gz\r\n",
      "│   └── func\r\n",
      "│       └── sub-0050984_task-rest_run-1_bold.nii.gz\r\n",
      "├── sub-0050985\r\n",
      "│   ├── anat\r\n",
      "│   │   └── sub-0050985_T1w.nii.gz\r\n",
      "│   └── func\r\n",
      "│       └── sub-0050985_task-rest_run-1_bold.nii.gz\r\n",
      "├── sub-0050986\r\n",
      "│   ├── anat\r\n",
      "│   │   └── sub-0050986_T1w.nii.gz\r\n",
      "│   └── func\r\n",
      "│       └── sub-0050986_task-rest_run-1_bold.nii.gz\r\n",
      "├── sub-0050987\r\n",
      "│   ├── anat\r\n",
      "│   │   └── sub-0050987_T1w.nii.gz\r\n",
      "│   └── func\r\n",
      "│       └── sub-0050987_task-rest_run-1_bold.nii.gz\r\n",
      "├── sub-0050988\r\n",
      "│   ├── anat\r\n",
      "│   │   └── sub-0050988_T1w.nii.gz\r\n",
      "│   └── func\r\n",
      "│       └── sub-0050988_task-rest_run-1_bold.nii.gz\r\n",
      "├── sub-0050989\r\n",
      "│   ├── anat\r\n",
      "│   │   └── sub-0050989_T1w.nii.gz\r\n",
      "│   └── func\r\n",
      "│       └── sub-0050989_task-rest_run-1_bold.nii.gz\r\n",
      "├── T1w.json\r\n",
      "└── task-rest_bold.json\r\n",
      "\r\n",
      "111 directories, 77 files\r\n"
     ]
    }
   ],
   "source": [
    "!tree /home/jovyan/work/preprocess/data/ABIDE-BIDS/NYU/"
   ]
  },
  {
   "cell_type": "markdown",
   "metadata": {},
   "source": [
    "**Lets query about the data now**\n",
    "\n",
    "1. Get the subject ID's "
   ]
  },
  {
   "cell_type": "code",
   "execution_count": 231,
   "metadata": {},
   "outputs": [
    {
     "data": {
      "text/plain": [
       "['0050952',\n",
       " '0050953',\n",
       " '0050954',\n",
       " '0050955',\n",
       " '0050956',\n",
       " '0050957',\n",
       " '0050958',\n",
       " '0050959',\n",
       " '0050960',\n",
       " '0050961',\n",
       " '0050962',\n",
       " '0050964',\n",
       " '0050965',\n",
       " '0050966',\n",
       " '0050967',\n",
       " '0050968',\n",
       " '0050969',\n",
       " '0050970',\n",
       " '0050971',\n",
       " '0050972',\n",
       " '0050973',\n",
       " '0050974',\n",
       " '0050975',\n",
       " '0050976',\n",
       " '0050977',\n",
       " '0050978',\n",
       " '0050979',\n",
       " '0050980',\n",
       " '0050981',\n",
       " '0050982',\n",
       " '0050983',\n",
       " '0050984',\n",
       " '0050985',\n",
       " '0050986',\n",
       " '0050987',\n",
       " '0050988',\n",
       " '0050989']"
      ]
     },
     "execution_count": 231,
     "metadata": {},
     "output_type": "execute_result"
    }
   ],
   "source": [
    "layout.get_subjects()"
   ]
  },
  {
   "cell_type": "markdown",
   "metadata": {},
   "source": [
    "`2`. What are modalities of the data in the database? Though it is not very difficult to find that, as you can look at the folders as they follow a unform structure.  "
   ]
  },
  {
   "cell_type": "code",
   "execution_count": 232,
   "metadata": {},
   "outputs": [
    {
     "data": {
      "text/plain": [
       "['anat', 'func']"
      ]
     },
     "execution_count": 232,
     "metadata": {},
     "output_type": "execute_result"
    }
   ],
   "source": [
    "layout.get_modalities()"
   ]
  },
  {
   "cell_type": "code",
   "execution_count": 233,
   "metadata": {},
   "outputs": [
    {
     "data": {
      "text/plain": [
       "['bold', 'T1w']"
      ]
     },
     "execution_count": 233,
     "metadata": {},
     "output_type": "execute_result"
    }
   ],
   "source": [
    "layout.get_types()"
   ]
  },
  {
   "cell_type": "markdown",
   "metadata": {},
   "source": [
    "`3.` Getting all the details of an individual subject. Note that it given an object of Type *File*."
   ]
  },
  {
   "cell_type": "code",
   "execution_count": 234,
   "metadata": {},
   "outputs": [
    {
     "data": {
      "text/plain": [
       "[File(filename='/home/jovyan/work/preprocess/data/ABIDE-BIDS/NYU/sub-0050952/anat/sub-0050952_T1w.nii.gz', type='T1w', modality='anat', subject='0050952'),\n",
       " File(filename='/home/jovyan/work/preprocess/data/ABIDE-BIDS/NYU/sub-0050952/func/sub-0050952_task-rest_run-1_bold.nii.gz', type='bold', task='rest', run='1', modality='func', subject='0050952')]"
      ]
     },
     "execution_count": 234,
     "metadata": {},
     "output_type": "execute_result"
    }
   ],
   "source": [
    "layout.get(subject='0050952')"
   ]
  },
  {
   "cell_type": "markdown",
   "metadata": {},
   "source": [
    "If you look at one of the outputs -> File() , Notice the parameters: `type`,`task`, `run`, `task`, `subject` etc.\n",
    "Remember these terms. You need to use these to query BIDS."
   ]
  },
  {
   "cell_type": "markdown",
   "metadata": {},
   "source": [
    "For a specific subset of data. Note that we are using extension filter to get just the imaging data (BIDS allows both .nii and .nii.gz so we need to include both)"
   ]
  },
  {
   "cell_type": "code",
   "execution_count": 235,
   "metadata": {},
   "outputs": [
    {
     "data": {
      "text/plain": [
       "[File(filename='/home/jovyan/work/preprocess/data/ABIDE-BIDS/NYU/sub-0050952/func/sub-0050952_task-rest_run-1_bold.nii.gz', type='bold', task='rest', run='1', modality='func', subject='0050952')]"
      ]
     },
     "execution_count": 235,
     "metadata": {},
     "output_type": "execute_result"
    }
   ],
   "source": [
    "layout.get(subject='0050952', type='bold', extensions=['nii', 'nii.gz'])"
   ]
  },
  {
   "cell_type": "markdown",
   "metadata": {},
   "source": [
    "### Including pyBIDS in workflow\n",
    "Let's create our own custom BIDSDataGrabber using a Function Interface."
   ]
  },
  {
   "cell_type": "code",
   "execution_count": 236,
   "metadata": {
    "collapsed": true
   },
   "outputs": [],
   "source": [
    "# from bids.grabbids import BIDSLayout"
   ]
  },
  {
   "cell_type": "code",
   "execution_count": 237,
   "metadata": {},
   "outputs": [],
   "source": [
    "def get_nifti_filenames(subject_id,data_dir):\n",
    "#     Remember that all the necesary imports need to be INSIDE the function for the Function Interface to work!\n",
    "    from bids.grabbids import BIDSLayout\n",
    "    \n",
    "    layout = BIDSLayout(data_dir)\n",
    "    \n",
    "    bold = [f.filename for f in layout.get(subject=subject_id, type='bold', extensions=['nii', 'nii.gz'])]\n",
    "    \n",
    "    return bold"
   ]
  },
  {
   "cell_type": "code",
   "execution_count": 238,
   "metadata": {},
   "outputs": [
    {
     "data": {
      "text/plain": [
       "['/home/jovyan/work/preprocess/data/ABIDE-BIDS/NYU/sub-0050952/func/sub-0050952_task-rest_run-1_bold.nii.gz']"
      ]
     },
     "execution_count": 238,
     "metadata": {},
     "output_type": "execute_result"
    }
   ],
   "source": [
    "get_nifti_filenames('0050952',\"/home/jovyan/work/preprocess/data/ABIDE-BIDS/NYU/\")"
   ]
  },
  {
   "cell_type": "markdown",
   "metadata": {},
   "source": [
    "Lets wrap it inside a Node object."
   ]
  },
  {
   "cell_type": "code",
   "execution_count": 239,
   "metadata": {
    "collapsed": true
   },
   "outputs": [],
   "source": [
    "from nipype.pipeline import Node, MapNode, Workflow\n",
    "from nipype.interfaces.utility import IdentityInterface, Function"
   ]
  },
  {
   "cell_type": "code",
   "execution_count": 240,
   "metadata": {
    "collapsed": true
   },
   "outputs": [],
   "source": [
    "BIDSDataGrabber = Node(Function(function=get_nifti_filenames, input_names=['subject_id','data_dir'],\n",
    "                                output_names='func_file_path'), name='BIDSDataGrabber')\n"
   ]
  },
  {
   "cell_type": "markdown",
   "metadata": {},
   "source": [
    "Note that in above line the `input_names` should be same as the actual parmeters of `function` whereas the `output_names` and `name` can be different."
   ]
  },
  {
   "cell_type": "markdown",
   "metadata": {},
   "source": [
    "Next, lets provide the inputs to our `BIDSDatagrabber` Node. The Workflow discussed later depends on these inputs"
   ]
  },
  {
   "cell_type": "code",
   "execution_count": 241,
   "metadata": {},
   "outputs": [],
   "source": [
    "BIDSDataGrabber.inputs.data_dir = '/home/jovyan/work/preprocess/data/ABIDE-BIDS/NYU/'\n",
    "BIDSDataGrabber.inputs.subject_id = '0050954'"
   ]
  },
  {
   "cell_type": "markdown",
   "metadata": {},
   "source": [
    "Execute the Node using `run()` and store all the outputs inside an object variable named `res` (here).  \n",
    "\n",
    "If this is run again without any changes to it, it collects the precomputed result from cache and doesnot excute again. Saves time! It is useful when you have incorporated it (`BIDSDataGrabber`) in workflow and some other node changes which does not influence its (`BIDSDataGrabber`) inputs. Then instead of re-executing the `BIDSDataGrabber` node again, it just fetches the result from the cache."
   ]
  },
  {
   "cell_type": "code",
   "execution_count": 242,
   "metadata": {},
   "outputs": [],
   "source": [
    "# res = BIDSDataGrabber.run()"
   ]
  },
  {
   "cell_type": "markdown",
   "metadata": {},
   "source": [
    "Lets see the output's type - It is of Interface result type. The actual result is stored in it in res.outputs"
   ]
  },
  {
   "cell_type": "code",
   "execution_count": 243,
   "metadata": {},
   "outputs": [],
   "source": [
    "# res"
   ]
  },
  {
   "cell_type": "markdown",
   "metadata": {},
   "source": [
    "To see the outputs stored in this object"
   ]
  },
  {
   "cell_type": "code",
   "execution_count": 244,
   "metadata": {},
   "outputs": [],
   "source": [
    "# res.outputs"
   ]
  },
  {
   "cell_type": "markdown",
   "metadata": {},
   "source": [
    "### Let's create a Workflow with a dummy function Node and our BIDSDataGrabber Node\n",
    "Let's assume that our dummy function that takes as input the path, analyzes it and then returns the path "
   ]
  },
  {
   "cell_type": "code",
   "execution_count": 245,
   "metadata": {
    "collapsed": true
   },
   "outputs": [],
   "source": [
    "def dummy_analyze(path):\n",
    "    print(\"\\n\\nANALYZING \" + str(path) + \"\\n\\n\")\n",
    "    path_analyzed = \"Analyzed: \" + str(path)\n",
    "    return path_analyzed\n",
    "    "
   ]
  },
  {
   "cell_type": "markdown",
   "metadata": {},
   "source": [
    "Create a Node of it."
   ]
  },
  {
   "cell_type": "code",
   "execution_count": 246,
   "metadata": {
    "collapsed": true
   },
   "outputs": [],
   "source": [
    "processed_BOLD = Node(Function(function=dummy_analyze,input_names=['path'],\n",
    "                               output_names=['path_analyzed']),name='dummy_analyze')"
   ]
  },
  {
   "cell_type": "markdown",
   "metadata": {},
   "source": [
    "Now Create a Workflow and connect two nodes - `processed_BOLD` and `BIDSDataGrabber`"
   ]
  },
  {
   "cell_type": "code",
   "execution_count": 247,
   "metadata": {
    "collapsed": true
   },
   "outputs": [],
   "source": [
    "wf=Workflow(name='Analysis_pipeline')\n"
   ]
  },
  {
   "cell_type": "markdown",
   "metadata": {},
   "source": [
    "There are two different ways to call ``Analysis_pipeline``:\n",
    "\n",
    "    connect(source, \"source_output\", dest, \"dest_input\")\n",
    "\n",
    "    connect([(source, dest, [(\"source_output1\", \"dest_input1\"),\n",
    "                             (\"source_output2\", \"dest_input2\")\n",
    "                             ])\n",
    "             ])\n",
    "\n",
    "With the first approach you can establish one connection at a time. With the second you can establish multiple connects between two nodes at once. In either case, you're providing it with four pieces of information to define the connection:\n",
    "\n",
    "- The source node object\n",
    "- The name of the output field from the source node\n",
    "- The destination node object\n",
    "- The name of the input field from the destination node\n"
   ]
  },
  {
   "cell_type": "code",
   "execution_count": 248,
   "metadata": {},
   "outputs": [
    {
     "name": "stdout",
     "output_type": "stream",
     "text": [
      "170914-20:04:16,780 workflow INFO:\n",
      "\t Workflow Analysis_pipeline settings: ['check', 'execution', 'logging']\n",
      "170914-20:04:16,794 workflow INFO:\n",
      "\t Running serially.\n",
      "170914-20:04:16,799 workflow INFO:\n",
      "\t Executing node BIDSDataGrabber in dir: /tmp/tmp2QTKOx/Analysis_pipeline/BIDSDataGrabber\n",
      "170914-20:04:16,852 workflow INFO:\n",
      "\t Executing node dummy_analyze in dir: /tmp/tmp8AWbSe/Analysis_pipeline/dummy_analyze\n",
      "\n",
      "\n",
      "ANALYZING ['/home/jovyan/work/preprocess/data/ABIDE-BIDS/NYU/sub-0050954/func/sub-0050954_task-rest_run-1_bold.nii.gz']\n",
      "\n",
      "\n"
     ]
    },
    {
     "data": {
      "text/plain": [
       "<networkx.classes.digraph.DiGraph at 0x7fb9de3c9d50>"
      ]
     },
     "execution_count": 248,
     "metadata": {},
     "output_type": "execute_result"
    }
   ],
   "source": [
    "wf.connect(BIDSDataGrabber,'func_file_path',processed_BOLD,'path')\n",
    "wf.run()"
   ]
  },
  {
   "cell_type": "markdown",
   "metadata": {},
   "source": [
    "Note in the above code that the name of the output field from the source node i.e. `func_file_path` and \n",
    "the name of the input field i.e. `path` from the destination node must be same as described in their respective Nodes"
   ]
  },
  {
   "cell_type": "markdown",
   "metadata": {},
   "source": [
    "Display Workflow Graph"
   ]
  },
  {
   "cell_type": "code",
   "execution_count": 249,
   "metadata": {},
   "outputs": [
    {
     "name": "stdout",
     "output_type": "stream",
     "text": [
      "170914-20:04:18,84 workflow INFO:\n",
      "\t Converting dotfile: /tmp/tmpG3VNng/BIDSDataGrabber/workflow_graph.dot to png format\n"
     ]
    },
    {
     "data": {
      "image/png": "[encoded data removed]",
      "text/plain": [
       "<IPython.core.display.Image object>"
      ]
     },
     "execution_count": 249,
     "metadata": {},
     "output_type": "execute_result"
    }
   ],
   "source": [
    "wf.write_graph(\"workflow_graph.dot\")\n",
    "from IPython.display import Image\n",
    "Image(filename=\"workflow_graph.dot.png\")"
   ]
  },
  {
   "cell_type": "code",
   "execution_count": 250,
   "metadata": {},
   "outputs": [
    {
     "name": "stdout",
     "output_type": "stream",
     "text": [
      "170914-20:04:18,106 workflow INFO:\n",
      "\t Workflow Analysis_pipeline settings: ['check', 'execution', 'logging']\n",
      "170914-20:04:18,113 workflow INFO:\n",
      "\t Running serially.\n",
      "170914-20:04:18,115 workflow INFO:\n",
      "\t Executing node BIDSDataGrabber in dir: /tmp/tmpG3VNng/BIDSDataGrabber/working_dir/Analysis_pipeline/BIDSDataGrabber\n",
      "170914-20:04:18,186 workflow INFO:\n",
      "\t Executing node dummy_analyze in dir: /tmp/tmpG3VNng/BIDSDataGrabber/working_dir/Analysis_pipeline/dummy_analyze\n",
      "\n",
      "\n",
      "ANALYZING ['/home/jovyan/work/preprocess/data/ABIDE-BIDS/NYU/sub-0050954/func/sub-0050954_task-rest_run-1_bold.nii.gz']\n",
      "\n",
      "\n"
     ]
    },
    {
     "data": {
      "text/plain": [
       "<networkx.classes.digraph.DiGraph at 0x7fb9de3c53d0>"
      ]
     },
     "execution_count": 250,
     "metadata": {},
     "output_type": "execute_result"
    }
   ],
   "source": [
    "# Specify the base directory for the working directory\n",
    "wf.base_dir = \"working_dir\"\n",
    "\n",
    "# Execute the workflow\n",
    "wf.run()"
   ]
  },
  {
   "cell_type": "markdown",
   "metadata": {},
   "source": [
    "The specification of ``base_dir`` is very important (and is why we needed to use absolute paths above), because otherwise all the outputs would be saved somewhere in the temporary files. Unlike interfaces, which by default spit out results to the local directry, the Workflow engine executes things off in its own directory hierarchy."
   ]
  },
  {
   "cell_type": "markdown",
   "metadata": {},
   "source": [
    "Next, Getting metadata using `layout.get_metadata('<brain_file_path>')`"
   ]
  },
  {
   "cell_type": "code",
   "execution_count": 254,
   "metadata": {},
   "outputs": [],
   "source": [
    "x = layout.get_metadata('/home/jovyan/work/preprocess/data/ABIDE-BIDS/NYU/sub-0050953/func/sub-0050952_task-rest_run-1_bold.nii.gz')"
   ]
  },
  {
   "cell_type": "code",
   "execution_count": 269,
   "metadata": {},
   "outputs": [],
   "source": [
    "y = x.items()[1]"
   ]
  },
  {
   "cell_type": "code",
   "execution_count": 272,
   "metadata": {},
   "outputs": [
    {
     "data": {
      "text/plain": [
       "90"
      ]
     },
     "execution_count": 272,
     "metadata": {},
     "output_type": "execute_result"
    }
   ],
   "source": [
    "y[1]"
   ]
  },
  {
   "cell_type": "markdown",
   "metadata": {},
   "source": [
    "## Iterating over subject labels\n",
    "Till now we demostrated how to use `pybids` to \"analyze\" one subject. How can we scale it for all subjects? Easy - using `iterables`."
   ]
  },
  {
   "cell_type": "code",
   "execution_count": 252,
   "metadata": {},
   "outputs": [
    {
     "name": "stdout",
     "output_type": "stream",
     "text": [
      "170914-20:04:18,410 workflow INFO:\n",
      "\t Workflow Analysis_pipeline settings: ['check', 'execution', 'logging']\n",
      "170914-20:04:18,473 workflow INFO:\n",
      "\t Running serially.\n",
      "170914-20:04:18,475 workflow INFO:\n",
      "\t Executing node BIDSDataGrabber.aI.a22 in dir: /tmp/tmpG3VNng/BIDSDataGrabber/working_dir/Analysis_pipeline/_subject_id_0050975/BIDSDataGrabber\n",
      "170914-20:04:18,524 workflow INFO:\n",
      "\t Executing node BIDSDataGrabber.aI.a01 in dir: /tmp/tmpG3VNng/BIDSDataGrabber/working_dir/Analysis_pipeline/_subject_id_0050953/BIDSDataGrabber\n",
      "170914-20:04:18,569 workflow INFO:\n",
      "\t Executing node BIDSDataGrabber.aI.a11 in dir: /tmp/tmpG3VNng/BIDSDataGrabber/working_dir/Analysis_pipeline/_subject_id_0050964/BIDSDataGrabber\n",
      "170914-20:04:18,609 workflow INFO:\n",
      "\t Executing node BIDSDataGrabber.aI.a31 in dir: /tmp/tmpG3VNng/BIDSDataGrabber/working_dir/Analysis_pipeline/_subject_id_0050984/BIDSDataGrabber\n",
      "170914-20:04:18,651 workflow INFO:\n",
      "\t Executing node BIDSDataGrabber.aI.a18 in dir: /tmp/tmpG3VNng/BIDSDataGrabber/working_dir/Analysis_pipeline/_subject_id_0050971/BIDSDataGrabber\n",
      "170914-20:04:18,692 workflow INFO:\n",
      "\t Executing node BIDSDataGrabber.aI.a25 in dir: /tmp/tmpG3VNng/BIDSDataGrabber/working_dir/Analysis_pipeline/_subject_id_0050978/BIDSDataGrabber\n",
      "170914-20:04:18,730 workflow INFO:\n",
      "\t Executing node BIDSDataGrabber.aI.a07 in dir: /tmp/tmpG3VNng/BIDSDataGrabber/working_dir/Analysis_pipeline/_subject_id_0050959/BIDSDataGrabber\n",
      "170914-20:04:18,771 workflow INFO:\n",
      "\t Executing node dummy_analyze.a11 in dir: /tmp/tmpG3VNng/BIDSDataGrabber/working_dir/Analysis_pipeline/_subject_id_0050964/dummy_analyze\n",
      "\n",
      "\n",
      "ANALYZING ['/home/jovyan/work/preprocess/data/ABIDE-BIDS/NYU/sub-0050964/func/sub-0050964_task-rest_run-1_bold.nii.gz']\n",
      "\n",
      "\n",
      "170914-20:04:18,780 workflow INFO:\n",
      "\t Executing node BIDSDataGrabber.aI.a02 in dir: /tmp/tmpG3VNng/BIDSDataGrabber/working_dir/Analysis_pipeline/_subject_id_0050954/BIDSDataGrabber\n",
      "170914-20:04:18,823 workflow INFO:\n",
      "\t Executing node BIDSDataGrabber.aI.a36 in dir: /tmp/tmpG3VNng/BIDSDataGrabber/working_dir/Analysis_pipeline/_subject_id_0050989/BIDSDataGrabber\n",
      "170914-20:04:18,863 workflow INFO:\n",
      "\t Executing node dummy_analyze.a25 in dir: /tmp/tmpG3VNng/BIDSDataGrabber/working_dir/Analysis_pipeline/_subject_id_0050978/dummy_analyze\n",
      "\n",
      "\n",
      "ANALYZING ['/home/jovyan/work/preprocess/data/ABIDE-BIDS/NYU/sub-0050978/func/sub-0050978_task-rest_run-1_bold.nii.gz']\n",
      "\n",
      "\n",
      "170914-20:04:18,873 workflow INFO:\n",
      "\t Executing node BIDSDataGrabber.aI.a17 in dir: /tmp/tmpG3VNng/BIDSDataGrabber/working_dir/Analysis_pipeline/_subject_id_0050970/BIDSDataGrabber\n",
      "170914-20:04:18,912 workflow INFO:\n",
      "\t Executing node BIDSDataGrabber.aI.a13 in dir: /tmp/tmpG3VNng/BIDSDataGrabber/working_dir/Analysis_pipeline/_subject_id_0050966/BIDSDataGrabber\n",
      "170914-20:04:18,951 workflow INFO:\n",
      "\t Executing node BIDSDataGrabber.aI.a15 in dir: /tmp/tmpG3VNng/BIDSDataGrabber/working_dir/Analysis_pipeline/_subject_id_0050968/BIDSDataGrabber\n",
      "170914-20:04:19,6 workflow INFO:\n",
      "\t Executing node dummy_analyze.a36 in dir: /tmp/tmpG3VNng/BIDSDataGrabber/working_dir/Analysis_pipeline/_subject_id_0050989/dummy_analyze\n",
      "\n",
      "\n",
      "ANALYZING ['/home/jovyan/work/preprocess/data/ABIDE-BIDS/NYU/sub-0050989/func/sub-0050989_task-rest_run-1_bold.nii.gz']\n",
      "\n",
      "\n",
      "170914-20:04:19,17 workflow INFO:\n",
      "\t Executing node BIDSDataGrabber.aI.a32 in dir: /tmp/tmpG3VNng/BIDSDataGrabber/working_dir/Analysis_pipeline/_subject_id_0050985/BIDSDataGrabber\n",
      "170914-20:04:19,70 workflow INFO:\n",
      "\t Executing node dummy_analyze.a32 in dir: /tmp/tmpG3VNng/BIDSDataGrabber/working_dir/Analysis_pipeline/_subject_id_0050985/dummy_analyze\n",
      "\n",
      "\n",
      "ANALYZING ['/home/jovyan/work/preprocess/data/ABIDE-BIDS/NYU/sub-0050985/func/sub-0050985_task-rest_run-1_bold.nii.gz']\n",
      "\n",
      "\n",
      "170914-20:04:19,83 workflow INFO:\n",
      "\t Executing node BIDSDataGrabber.aI.a26 in dir: /tmp/tmpG3VNng/BIDSDataGrabber/working_dir/Analysis_pipeline/_subject_id_0050979/BIDSDataGrabber\n",
      "170914-20:04:19,133 workflow INFO:\n",
      "\t Executing node BIDSDataGrabber.aI.a35 in dir: /tmp/tmpG3VNng/BIDSDataGrabber/working_dir/Analysis_pipeline/_subject_id_0050988/BIDSDataGrabber\n",
      "170914-20:04:19,186 workflow INFO:\n",
      "\t Executing node dummy_analyze.a35 in dir: /tmp/tmpG3VNng/BIDSDataGrabber/working_dir/Analysis_pipeline/_subject_id_0050988/dummy_analyze\n",
      "\n",
      "\n",
      "ANALYZING ['/home/jovyan/work/preprocess/data/ABIDE-BIDS/NYU/sub-0050988/func/sub-0050988_task-rest_run-1_bold.nii.gz']\n",
      "\n",
      "\n",
      "170914-20:04:19,199 workflow INFO:\n",
      "\t Executing node BIDSDataGrabber.aI.a16 in dir: /tmp/tmpG3VNng/BIDSDataGrabber/working_dir/Analysis_pipeline/_subject_id_0050969/BIDSDataGrabber\n",
      "170914-20:04:19,249 workflow INFO:\n",
      "\t Executing node BIDSDataGrabber.aI.a20 in dir: /tmp/tmpG3VNng/BIDSDataGrabber/working_dir/Analysis_pipeline/_subject_id_0050973/BIDSDataGrabber\n",
      "170914-20:04:19,293 workflow INFO:\n",
      "\t Executing node BIDSDataGrabber.aI.a33 in dir: /tmp/tmpG3VNng/BIDSDataGrabber/working_dir/Analysis_pipeline/_subject_id_0050986/BIDSDataGrabber\n",
      "170914-20:04:19,332 workflow INFO:\n",
      "\t Executing node BIDSDataGrabber.aI.a08 in dir: /tmp/tmpG3VNng/BIDSDataGrabber/working_dir/Analysis_pipeline/_subject_id_0050960/BIDSDataGrabber\n",
      "170914-20:04:19,373 workflow INFO:\n",
      "\t Executing node dummy_analyze.a08 in dir: /tmp/tmpG3VNng/BIDSDataGrabber/working_dir/Analysis_pipeline/_subject_id_0050960/dummy_analyze\n",
      "\n",
      "\n",
      "ANALYZING ['/home/jovyan/work/preprocess/data/ABIDE-BIDS/NYU/sub-0050960/func/sub-0050960_task-rest_run-1_bold.nii.gz']\n",
      "\n",
      "\n",
      "170914-20:04:19,383 workflow INFO:\n",
      "\t Executing node BIDSDataGrabber.aI.a29 in dir: /tmp/tmpG3VNng/BIDSDataGrabber/working_dir/Analysis_pipeline/_subject_id_0050982/BIDSDataGrabber\n",
      "170914-20:04:19,424 workflow INFO:\n",
      "\t Executing node dummy_analyze.a29 in dir: /tmp/tmpG3VNng/BIDSDataGrabber/working_dir/Analysis_pipeline/_subject_id_0050982/dummy_analyze\n",
      "\n",
      "\n",
      "ANALYZING ['/home/jovyan/work/preprocess/data/ABIDE-BIDS/NYU/sub-0050982/func/sub-0050982_task-rest_run-1_bold.nii.gz']\n",
      "\n",
      "\n",
      "170914-20:04:19,435 workflow INFO:\n",
      "\t Executing node dummy_analyze.a26 in dir: /tmp/tmpG3VNng/BIDSDataGrabber/working_dir/Analysis_pipeline/_subject_id_0050979/dummy_analyze\n",
      "\n",
      "\n",
      "ANALYZING ['/home/jovyan/work/preprocess/data/ABIDE-BIDS/NYU/sub-0050979/func/sub-0050979_task-rest_run-1_bold.nii.gz']\n",
      "\n",
      "\n",
      "170914-20:04:19,447 workflow INFO:\n",
      "\t Executing node dummy_analyze.a22 in dir: /tmp/tmpG3VNng/BIDSDataGrabber/working_dir/Analysis_pipeline/_subject_id_0050975/dummy_analyze\n",
      "\n",
      "\n",
      "ANALYZING ['/home/jovyan/work/preprocess/data/ABIDE-BIDS/NYU/sub-0050975/func/sub-0050975_task-rest_run-1_bold.nii.gz']\n",
      "\n",
      "\n",
      "170914-20:04:19,457 workflow INFO:\n",
      "\t Executing node BIDSDataGrabber.aI.a04 in dir: /tmp/tmpG3VNng/BIDSDataGrabber/working_dir/Analysis_pipeline/_subject_id_0050956/BIDSDataGrabber\n",
      "170914-20:04:19,500 workflow INFO:\n",
      "\t Executing node dummy_analyze.a02 in dir: /tmp/tmpG3VNng/BIDSDataGrabber/working_dir/Analysis_pipeline/_subject_id_0050954/dummy_analyze\n",
      "\n",
      "\n",
      "ANALYZING ['/home/jovyan/work/preprocess/data/ABIDE-BIDS/NYU/sub-0050954/func/sub-0050954_task-rest_run-1_bold.nii.gz']\n",
      "\n",
      "\n",
      "170914-20:04:19,510 workflow INFO:\n",
      "\t Executing node BIDSDataGrabber.aI.a00 in dir: /tmp/tmpG3VNng/BIDSDataGrabber/working_dir/Analysis_pipeline/_subject_id_0050952/BIDSDataGrabber\n",
      "170914-20:04:19,551 workflow INFO:\n",
      "\t Executing node dummy_analyze.a00 in dir: /tmp/tmpG3VNng/BIDSDataGrabber/working_dir/Analysis_pipeline/_subject_id_0050952/dummy_analyze\n",
      "\n",
      "\n",
      "ANALYZING ['/home/jovyan/work/preprocess/data/ABIDE-BIDS/NYU/sub-0050952/func/sub-0050952_task-rest_run-1_bold.nii.gz']\n",
      "\n",
      "\n",
      "170914-20:04:19,562 workflow INFO:\n",
      "\t Executing node dummy_analyze.a33 in dir: /tmp/tmpG3VNng/BIDSDataGrabber/working_dir/Analysis_pipeline/_subject_id_0050986/dummy_analyze\n",
      "\n",
      "\n",
      "ANALYZING ['/home/jovyan/work/preprocess/data/ABIDE-BIDS/NYU/sub-0050986/func/sub-0050986_task-rest_run-1_bold.nii.gz']\n",
      "\n",
      "\n",
      "170914-20:04:19,571 workflow INFO:\n",
      "\t Executing node BIDSDataGrabber.aI.a10 in dir: /tmp/tmpG3VNng/BIDSDataGrabber/working_dir/Analysis_pipeline/_subject_id_0050962/BIDSDataGrabber\n",
      "170914-20:04:19,613 workflow INFO:\n",
      "\t Executing node dummy_analyze.a10 in dir: /tmp/tmpG3VNng/BIDSDataGrabber/working_dir/Analysis_pipeline/_subject_id_0050962/dummy_analyze\n",
      "\n",
      "\n",
      "ANALYZING ['/home/jovyan/work/preprocess/data/ABIDE-BIDS/NYU/sub-0050962/func/sub-0050962_task-rest_run-1_bold.nii.gz']\n",
      "\n",
      "\n",
      "170914-20:04:19,624 workflow INFO:\n",
      "\t Executing node dummy_analyze.a15 in dir: /tmp/tmpG3VNng/BIDSDataGrabber/working_dir/Analysis_pipeline/_subject_id_0050968/dummy_analyze\n"
     ]
    },
    {
     "name": "stdout",
     "output_type": "stream",
     "text": [
      "\n",
      "\n",
      "ANALYZING ['/home/jovyan/work/preprocess/data/ABIDE-BIDS/NYU/sub-0050968/func/sub-0050968_task-rest_run-1_bold.nii.gz']\n",
      "\n",
      "\n",
      "170914-20:04:19,635 workflow INFO:\n",
      "\t Executing node BIDSDataGrabber.aI.a27 in dir: /tmp/tmpG3VNng/BIDSDataGrabber/working_dir/Analysis_pipeline/_subject_id_0050980/BIDSDataGrabber\n",
      "170914-20:04:19,676 workflow INFO:\n",
      "\t Executing node dummy_analyze.a27 in dir: /tmp/tmpG3VNng/BIDSDataGrabber/working_dir/Analysis_pipeline/_subject_id_0050980/dummy_analyze\n",
      "\n",
      "\n",
      "ANALYZING ['/home/jovyan/work/preprocess/data/ABIDE-BIDS/NYU/sub-0050980/func/sub-0050980_task-rest_run-1_bold.nii.gz']\n",
      "\n",
      "\n",
      "170914-20:04:19,686 workflow INFO:\n",
      "\t Executing node BIDSDataGrabber.aI.a03 in dir: /tmp/tmpG3VNng/BIDSDataGrabber/working_dir/Analysis_pipeline/_subject_id_0050955/BIDSDataGrabber\n",
      "170914-20:04:19,726 workflow INFO:\n",
      "\t Executing node dummy_analyze.a17 in dir: /tmp/tmpG3VNng/BIDSDataGrabber/working_dir/Analysis_pipeline/_subject_id_0050970/dummy_analyze\n",
      "\n",
      "\n",
      "ANALYZING ['/home/jovyan/work/preprocess/data/ABIDE-BIDS/NYU/sub-0050970/func/sub-0050970_task-rest_run-1_bold.nii.gz']\n",
      "\n",
      "\n",
      "170914-20:04:19,737 workflow INFO:\n",
      "\t Executing node dummy_analyze.a07 in dir: /tmp/tmpG3VNng/BIDSDataGrabber/working_dir/Analysis_pipeline/_subject_id_0050959/dummy_analyze\n",
      "\n",
      "\n",
      "ANALYZING ['/home/jovyan/work/preprocess/data/ABIDE-BIDS/NYU/sub-0050959/func/sub-0050959_task-rest_run-1_bold.nii.gz']\n",
      "\n",
      "\n",
      "170914-20:04:19,748 workflow INFO:\n",
      "\t Executing node dummy_analyze.a20 in dir: /tmp/tmpG3VNng/BIDSDataGrabber/working_dir/Analysis_pipeline/_subject_id_0050973/dummy_analyze\n",
      "\n",
      "\n",
      "ANALYZING ['/home/jovyan/work/preprocess/data/ABIDE-BIDS/NYU/sub-0050973/func/sub-0050973_task-rest_run-1_bold.nii.gz']\n",
      "\n",
      "\n",
      "170914-20:04:19,761 workflow INFO:\n",
      "\t Executing node dummy_analyze.a13 in dir: /tmp/tmpG3VNng/BIDSDataGrabber/working_dir/Analysis_pipeline/_subject_id_0050966/dummy_analyze\n",
      "\n",
      "\n",
      "ANALYZING ['/home/jovyan/work/preprocess/data/ABIDE-BIDS/NYU/sub-0050966/func/sub-0050966_task-rest_run-1_bold.nii.gz']\n",
      "\n",
      "\n",
      "170914-20:04:19,775 workflow INFO:\n",
      "\t Executing node dummy_analyze.a16 in dir: /tmp/tmpG3VNng/BIDSDataGrabber/working_dir/Analysis_pipeline/_subject_id_0050969/dummy_analyze\n",
      "\n",
      "\n",
      "ANALYZING ['/home/jovyan/work/preprocess/data/ABIDE-BIDS/NYU/sub-0050969/func/sub-0050969_task-rest_run-1_bold.nii.gz']\n",
      "\n",
      "\n",
      "170914-20:04:19,785 workflow INFO:\n",
      "\t Executing node BIDSDataGrabber.aI.a34 in dir: /tmp/tmpG3VNng/BIDSDataGrabber/working_dir/Analysis_pipeline/_subject_id_0050987/BIDSDataGrabber\n",
      "170914-20:04:19,827 workflow INFO:\n",
      "\t Executing node dummy_analyze.a34 in dir: /tmp/tmpG3VNng/BIDSDataGrabber/working_dir/Analysis_pipeline/_subject_id_0050987/dummy_analyze\n",
      "\n",
      "\n",
      "ANALYZING ['/home/jovyan/work/preprocess/data/ABIDE-BIDS/NYU/sub-0050987/func/sub-0050987_task-rest_run-1_bold.nii.gz']\n",
      "\n",
      "\n",
      "170914-20:04:19,840 workflow INFO:\n",
      "\t Executing node BIDSDataGrabber.aI.a23 in dir: /tmp/tmpG3VNng/BIDSDataGrabber/working_dir/Analysis_pipeline/_subject_id_0050976/BIDSDataGrabber\n",
      "170914-20:04:19,880 workflow INFO:\n",
      "\t Executing node dummy_analyze.a18 in dir: /tmp/tmpG3VNng/BIDSDataGrabber/working_dir/Analysis_pipeline/_subject_id_0050971/dummy_analyze\n",
      "\n",
      "\n",
      "ANALYZING ['/home/jovyan/work/preprocess/data/ABIDE-BIDS/NYU/sub-0050971/func/sub-0050971_task-rest_run-1_bold.nii.gz']\n",
      "\n",
      "\n",
      "170914-20:04:19,891 workflow INFO:\n",
      "\t Executing node dummy_analyze.a01 in dir: /tmp/tmpG3VNng/BIDSDataGrabber/working_dir/Analysis_pipeline/_subject_id_0050953/dummy_analyze\n",
      "\n",
      "\n",
      "ANALYZING ['/home/jovyan/work/preprocess/data/ABIDE-BIDS/NYU/sub-0050953/func/sub-0050953_task-rest_run-1_bold.nii.gz']\n",
      "\n",
      "\n",
      "170914-20:04:19,902 workflow INFO:\n",
      "\t Executing node dummy_analyze.a04 in dir: /tmp/tmpG3VNng/BIDSDataGrabber/working_dir/Analysis_pipeline/_subject_id_0050956/dummy_analyze\n",
      "\n",
      "\n",
      "ANALYZING ['/home/jovyan/work/preprocess/data/ABIDE-BIDS/NYU/sub-0050956/func/sub-0050956_task-rest_run-1_bold.nii.gz']\n",
      "\n",
      "\n",
      "170914-20:04:19,912 workflow INFO:\n",
      "\t Executing node BIDSDataGrabber.aI.a06 in dir: /tmp/tmpG3VNng/BIDSDataGrabber/working_dir/Analysis_pipeline/_subject_id_0050958/BIDSDataGrabber\n",
      "170914-20:04:19,952 workflow INFO:\n",
      "\t Executing node BIDSDataGrabber.aI.a14 in dir: /tmp/tmpG3VNng/BIDSDataGrabber/working_dir/Analysis_pipeline/_subject_id_0050967/BIDSDataGrabber\n",
      "170914-20:04:19,995 workflow INFO:\n",
      "\t Executing node dummy_analyze.a14 in dir: /tmp/tmpG3VNng/BIDSDataGrabber/working_dir/Analysis_pipeline/_subject_id_0050967/dummy_analyze\n",
      "\n",
      "\n",
      "ANALYZING ['/home/jovyan/work/preprocess/data/ABIDE-BIDS/NYU/sub-0050967/func/sub-0050967_task-rest_run-1_bold.nii.gz']\n",
      "\n",
      "\n",
      "170914-20:04:20,4 workflow INFO:\n",
      "\t Executing node BIDSDataGrabber.aI.a30 in dir: /tmp/tmpG3VNng/BIDSDataGrabber/working_dir/Analysis_pipeline/_subject_id_0050983/BIDSDataGrabber\n",
      "170914-20:04:20,47 workflow INFO:\n",
      "\t Executing node dummy_analyze.a30 in dir: /tmp/tmpG3VNng/BIDSDataGrabber/working_dir/Analysis_pipeline/_subject_id_0050983/dummy_analyze\n",
      "\n",
      "\n",
      "ANALYZING ['/home/jovyan/work/preprocess/data/ABIDE-BIDS/NYU/sub-0050983/func/sub-0050983_task-rest_run-1_bold.nii.gz']\n",
      "\n",
      "\n",
      "170914-20:04:20,56 workflow INFO:\n",
      "\t Executing node BIDSDataGrabber.aI.a28 in dir: /tmp/tmpG3VNng/BIDSDataGrabber/working_dir/Analysis_pipeline/_subject_id_0050981/BIDSDataGrabber\n",
      "170914-20:04:20,103 workflow INFO:\n",
      "\t Executing node dummy_analyze.a31 in dir: /tmp/tmpG3VNng/BIDSDataGrabber/working_dir/Analysis_pipeline/_subject_id_0050984/dummy_analyze\n",
      "\n",
      "\n",
      "ANALYZING ['/home/jovyan/work/preprocess/data/ABIDE-BIDS/NYU/sub-0050984/func/sub-0050984_task-rest_run-1_bold.nii.gz']\n",
      "\n",
      "\n",
      "170914-20:04:20,113 workflow INFO:\n",
      "\t Executing node BIDSDataGrabber.aI.a24 in dir: /tmp/tmpG3VNng/BIDSDataGrabber/working_dir/Analysis_pipeline/_subject_id_0050977/BIDSDataGrabber\n",
      "170914-20:04:20,159 workflow INFO:\n",
      "\t Executing node dummy_analyze.a24 in dir: /tmp/tmpG3VNng/BIDSDataGrabber/working_dir/Analysis_pipeline/_subject_id_0050977/dummy_analyze\n",
      "\n",
      "\n",
      "ANALYZING ['/home/jovyan/work/preprocess/data/ABIDE-BIDS/NYU/sub-0050977/func/sub-0050977_task-rest_run-1_bold.nii.gz']\n",
      "\n",
      "\n",
      "170914-20:04:20,175 workflow INFO:\n",
      "\t Executing node dummy_analyze.a03 in dir: /tmp/tmpG3VNng/BIDSDataGrabber/working_dir/Analysis_pipeline/_subject_id_0050955/dummy_analyze\n",
      "\n",
      "\n",
      "ANALYZING ['/home/jovyan/work/preprocess/data/ABIDE-BIDS/NYU/sub-0050955/func/sub-0050955_task-rest_run-1_bold.nii.gz']\n",
      "\n",
      "\n",
      "170914-20:04:20,189 workflow INFO:\n",
      "\t Executing node BIDSDataGrabber.aI.a12 in dir: /tmp/tmpG3VNng/BIDSDataGrabber/working_dir/Analysis_pipeline/_subject_id_0050965/BIDSDataGrabber\n",
      "170914-20:04:20,234 workflow INFO:\n",
      "\t Executing node dummy_analyze.a12 in dir: /tmp/tmpG3VNng/BIDSDataGrabber/working_dir/Analysis_pipeline/_subject_id_0050965/dummy_analyze\n",
      "\n",
      "\n",
      "ANALYZING ['/home/jovyan/work/preprocess/data/ABIDE-BIDS/NYU/sub-0050965/func/sub-0050965_task-rest_run-1_bold.nii.gz']\n",
      "\n",
      "\n",
      "170914-20:04:20,245 workflow INFO:\n",
      "\t Executing node BIDSDataGrabber.aI.a19 in dir: /tmp/tmpG3VNng/BIDSDataGrabber/working_dir/Analysis_pipeline/_subject_id_0050972/BIDSDataGrabber\n",
      "170914-20:04:20,287 workflow INFO:\n",
      "\t Executing node dummy_analyze.a19 in dir: /tmp/tmpG3VNng/BIDSDataGrabber/working_dir/Analysis_pipeline/_subject_id_0050972/dummy_analyze\n",
      "\n",
      "\n",
      "ANALYZING ['/home/jovyan/work/preprocess/data/ABIDE-BIDS/NYU/sub-0050972/func/sub-0050972_task-rest_run-1_bold.nii.gz']\n",
      "\n",
      "\n",
      "170914-20:04:20,297 workflow INFO:\n",
      "\t Executing node BIDSDataGrabber.aI.a05 in dir: /tmp/tmpG3VNng/BIDSDataGrabber/working_dir/Analysis_pipeline/_subject_id_0050957/BIDSDataGrabber\n",
      "170914-20:04:20,369 workflow INFO:\n",
      "\t Executing node dummy_analyze.a05 in dir: /tmp/tmpG3VNng/BIDSDataGrabber/working_dir/Analysis_pipeline/_subject_id_0050957/dummy_analyze\n",
      "\n",
      "\n",
      "ANALYZING ['/home/jovyan/work/preprocess/data/ABIDE-BIDS/NYU/sub-0050957/func/sub-0050957_task-rest_run-1_bold.nii.gz']\n",
      "\n",
      "\n",
      "170914-20:04:20,382 workflow INFO:\n",
      "\t Executing node dummy_analyze.a06 in dir: /tmp/tmpG3VNng/BIDSDataGrabber/working_dir/Analysis_pipeline/_subject_id_0050958/dummy_analyze\n",
      "\n",
      "\n",
      "ANALYZING ['/home/jovyan/work/preprocess/data/ABIDE-BIDS/NYU/sub-0050958/func/sub-0050958_task-rest_run-1_bold.nii.gz']\n",
      "\n",
      "\n",
      "170914-20:04:20,394 workflow INFO:\n",
      "\t Executing node BIDSDataGrabber.aI.a21 in dir: /tmp/tmpG3VNng/BIDSDataGrabber/working_dir/Analysis_pipeline/_subject_id_0050974/BIDSDataGrabber\n",
      "170914-20:04:20,436 workflow INFO:\n",
      "\t Executing node dummy_analyze.a21 in dir: /tmp/tmpG3VNng/BIDSDataGrabber/working_dir/Analysis_pipeline/_subject_id_0050974/dummy_analyze\n"
     ]
    },
    {
     "name": "stdout",
     "output_type": "stream",
     "text": [
      "\n",
      "\n",
      "ANALYZING ['/home/jovyan/work/preprocess/data/ABIDE-BIDS/NYU/sub-0050974/func/sub-0050974_task-rest_run-1_bold.nii.gz']\n",
      "\n",
      "\n",
      "170914-20:04:20,447 workflow INFO:\n",
      "\t Executing node dummy_analyze.a23 in dir: /tmp/tmpG3VNng/BIDSDataGrabber/working_dir/Analysis_pipeline/_subject_id_0050976/dummy_analyze\n",
      "\n",
      "\n",
      "ANALYZING ['/home/jovyan/work/preprocess/data/ABIDE-BIDS/NYU/sub-0050976/func/sub-0050976_task-rest_run-1_bold.nii.gz']\n",
      "\n",
      "\n",
      "170914-20:04:20,458 workflow INFO:\n",
      "\t Executing node dummy_analyze.a28 in dir: /tmp/tmpG3VNng/BIDSDataGrabber/working_dir/Analysis_pipeline/_subject_id_0050981/dummy_analyze\n",
      "\n",
      "\n",
      "ANALYZING ['/home/jovyan/work/preprocess/data/ABIDE-BIDS/NYU/sub-0050981/func/sub-0050981_task-rest_run-1_bold.nii.gz']\n",
      "\n",
      "\n",
      "170914-20:04:20,469 workflow INFO:\n",
      "\t Executing node BIDSDataGrabber.aI.a09 in dir: /tmp/tmpG3VNng/BIDSDataGrabber/working_dir/Analysis_pipeline/_subject_id_0050961/BIDSDataGrabber\n",
      "170914-20:04:20,510 workflow INFO:\n",
      "\t Executing node dummy_analyze.a09 in dir: /tmp/tmpG3VNng/BIDSDataGrabber/working_dir/Analysis_pipeline/_subject_id_0050961/dummy_analyze\n",
      "\n",
      "\n",
      "ANALYZING ['/home/jovyan/work/preprocess/data/ABIDE-BIDS/NYU/sub-0050961/func/sub-0050961_task-rest_run-1_bold.nii.gz']\n",
      "\n",
      "\n"
     ]
    },
    {
     "data": {
      "text/plain": [
       "<networkx.classes.digraph.DiGraph at 0x7fb9de569890>"
      ]
     },
     "execution_count": 252,
     "metadata": {},
     "output_type": "execute_result"
    }
   ],
   "source": [
    "BIDSDataGrabber.iterables = ('subject_id', layout.get_subjects())\n",
    "wf.run()"
   ]
  },
  {
   "cell_type": "code",
   "execution_count": 253,
   "metadata": {},
   "outputs": [
    {
     "data": {
      "text/plain": [
       "\n",
       "func_file_path = <undefined>"
      ]
     },
     "execution_count": 253,
     "metadata": {},
     "output_type": "execute_result"
    }
   ],
   "source": [
    "BIDSDataGrabber.outputs"
   ]
  },
  {
   "cell_type": "code",
   "execution_count": null,
   "metadata": {
    "collapsed": true
   },
   "outputs": [],
   "source": []
  }
 ],
 "metadata": {
  "kernelspec": {
   "display_name": "Python [conda env:python2]",
   "language": "python",
   "name": "conda-env-python2-py"
  },
  "language_info": {
   "codemirror_mode": {
    "name": "ipython",
    "version": 2
   },
   "file_extension": ".py",
   "mimetype": "text/x-python",
   "name": "python",
   "nbconvert_exporter": "python",
   "pygments_lexer": "ipython2",
   "version": "2.7.13"
  }
 },
 "nbformat": 4,
 "nbformat_minor": 2
}
